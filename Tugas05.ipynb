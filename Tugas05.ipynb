{
 "cells": [
  {
   "cell_type": "code",
   "execution_count": 1,
   "metadata": {},
   "outputs": [
    {
     "name": "stdout",
     "output_type": "stream",
     "text": [
      "Because I proud to make something new\n",
      "I like programming\n"
     ]
    }
   ],
   "source": [
    "# membuat fungsi 1\n",
    "def alasan () :\n",
    "    print (\"Because I proud to make something new\")\n",
    "# membuat fungsi 2\n",
    "def hobi () :\n",
    "    print (\"I like programming\")\n",
    "    \n",
    "## pemanggil fungsi\n",
    "alasan ()\n",
    "hobi()"
   ]
  },
  {
   "cell_type": "code",
   "execution_count": 14,
   "metadata": {},
   "outputs": [
    {
     "name": "stdout",
     "output_type": "stream",
     "text": [
      "masukan nama anda Lusi Amaliyah\n",
      "luas persegi panjang adalah 20\n",
      "luas persegi panjang adalah 5000\n"
     ]
    }
   ],
   "source": [
    "def perkenalan_diri():\n",
    "    perkenalan_diri= input(\"masukan nama anda \") \n",
    "def luas_persegipanjang(panjang, lebar):\n",
    "    luas=panjang * lebar\n",
    "    print (\"luas persegi panjang adalah\", luas)\n",
    "    \n",
    "perkenalan_diri()\n",
    "luas_persegipanjang (5,4)\n",
    "luas_persegipanjang (100, 50)\n"
   ]
  },
  {
   "cell_type": "code",
   "execution_count": 3,
   "metadata": {},
   "outputs": [
    {
     "name": "stdout",
     "output_type": "stream",
     "text": [
      "panjang 20\n",
      "lebar 10\n",
      "tinggi 25\n",
      "luas persegi panjang adalah 200\n",
      "volume balok adalah 5000\n"
     ]
    }
   ],
   "source": [
    "# Nama Lusi Amaliyahtul Hidayah\n",
    "\n",
    "p = int(input (\"panjang \"))\n",
    "l = int (input(\"lebar \"))\n",
    "t = int (input (\"tinggi \"))\n",
    "\n",
    "def luas_panjang ():\n",
    "    luas = p*l\n",
    "    return luas\n",
    "def volume_balok ():\n",
    "    volume = luas_panjang ()*t\n",
    "    return volume\n",
    "print(\"luas persegi panjang adalah\", luas_panjang())\n",
    "print(\"volume balok adalah\", volume_balok())"
   ]
  },
  {
   "cell_type": "code",
   "execution_count": 6,
   "metadata": {},
   "outputs": [
    {
     "name": "stdout",
     "output_type": "stream",
     "text": [
      "angka1 30\n",
      "angka2 30\n",
      "apakah angka1 sama dengan angka2 : True\n",
      "apakah angka1 lebih besar angka2 : False\n"
     ]
    }
   ],
   "source": [
    "#Nama Lusi Amaliyahtul Hidayah\n",
    "\n",
    "angka1 = int(input(\"angka1 \"))\n",
    "angka2 = int(input(\"angka2 \"))\n",
    "\n",
    "def sama_dengan(angka1, angka2):\n",
    "    sm_dgn = angka1==angka2\n",
    "    print (\"apakah angka1 sama dengan angka2 :\", sm_dgn)\n",
    "    \n",
    "def lebih_besar(angka1, angka2):\n",
    "    lbh_bsr = angka1>angka2\n",
    "    print (\"apakah angka1 lebih besar angka2 :\", lbh_bsr)\n",
    "    \n",
    "sama_dengan(angka1, angka2)\n",
    "lebih_besar(angka1, angka2)"
   ]
  },
  {
   "cell_type": "code",
   "execution_count": null,
   "metadata": {},
   "outputs": [],
   "source": []
  }
 ],
 "metadata": {
  "kernelspec": {
   "display_name": "Python 3",
   "language": "python",
   "name": "python3"
  },
  "language_info": {
   "codemirror_mode": {
    "name": "ipython",
    "version": 3
   },
   "file_extension": ".py",
   "mimetype": "text/x-python",
   "name": "python",
   "nbconvert_exporter": "python",
   "pygments_lexer": "ipython3",
   "version": "3.8.3"
  }
 },
 "nbformat": 4,
 "nbformat_minor": 4
}
