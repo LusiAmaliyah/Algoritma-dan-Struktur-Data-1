{
 "cells": [
  {
   "cell_type": "code",
   "execution_count": 8,
   "metadata": {},
   "outputs": [
    {
     "name": "stdout",
     "output_type": "stream",
     "text": [
      "Hasil 9 + 8 = 17\n",
      "Hasil 9 - 8 = 17\n"
     ]
    }
   ],
   "source": [
    "#Nama Lusi Amaliyahtul Hidayah\n",
    "e = 9\n",
    "f = 8\n",
    "\n",
    "# Menggunakan operator penjumlahan \n",
    "g = e + f \n",
    "print (\"Hasil\", e, \"+\" ,f, \"=\", g)\n",
    "\n",
    "# operator pengurangan \n",
    "h = e - f\n",
    "print (\"Hasil\", e, \"-\" , f, \"=\", g)"
   ]
  },
  {
   "cell_type": "code",
   "execution_count": 9,
   "metadata": {},
   "outputs": [
    {
     "name": "stdout",
     "output_type": "stream",
     "text": [
      "15\n",
      "25\n"
     ]
    }
   ],
   "source": [
    "#Nama Lusi Amaliyahtul Hidayah\n",
    "a = 15  #contoh operator penugasan untuk mengisi nilai\n",
    "print(a)\n",
    "\n",
    "a +=10 # Jumlahkan nilai a dengan operatorpenugasan untuk menjumlahkan\n",
    "\n",
    "# Setelah nilai a ditambah 10, tampilkan isinya\n",
    "print(a)"
   ]
  },
  {
   "cell_type": "code",
   "execution_count": 10,
   "metadata": {},
   "outputs": [
    {
     "name": "stdout",
     "output_type": "stream",
     "text": [
      "apakah c sama dengan d: False\n",
      "Apakah c lebih besar dari d: True\n"
     ]
    }
   ],
   "source": [
    "#Nama LUsi Amaliyahtul Hidayah\n",
    "c = 20\n",
    "d = 9\n",
    "\n",
    "#apakah c sama dengan d?\n",
    "e = c == d\n",
    "print (\"apakah c sama dengan d:\", e)\n",
    "\n",
    "#apakah c lebih besar dari d?\n",
    "e = c > d\n",
    "print (\"Apakah c lebih besar dari d:\", e)"
   ]
  },
  {
   "cell_type": "code",
   "execution_count": 12,
   "metadata": {},
   "outputs": [
    {
     "name": "stdout",
     "output_type": "stream",
     "text": [
      "False\n"
     ]
    }
   ],
   "source": [
    "#Nama Lusi Amaliyahtul Hidayah\n",
    "a = False\n",
    "b = True\n",
    "\n",
    "# Logika AND\n",
    "c = a and b\n",
    "print(c)"
   ]
  },
  {
   "cell_type": "code",
   "execution_count": 18,
   "metadata": {},
   "outputs": [
    {
     "name": "stdout",
     "output_type": "stream",
     "text": [
      "masukan nama bayiyui\n",
      "masukan berat badan bayi (KG)2\n",
      "Berat badannya 20 (Ons)\n",
      "hello yui berat badan bayi adalah 2 KG atau 20 ons, 1 bualn kemudian 50 ons\n"
     ]
    }
   ],
   "source": [
    "#Nama Lusi Amaliyahtul Hidayah\n",
    "\n",
    "name = input (\"masukan nama bayi\")\n",
    "berat_badan = int(input(\"masukan berat badan bayi (KG)\"))\n",
    "\n",
    "ons = berat_badan * 10\n",
    "print (\"Berat badannya\", ons, \"(Ons)\")\n",
    "berat_badan_1bulan = ons + 30\n",
    "\n",
    "\n",
    "print (\"hello\", name, \"berat badan bayi adalah\", berat_badan, \"KG\", \"atau\", ons, \"ons,\", \"1 bualn kemudian\", berat_badan_1bulan, \"ons\")\n"
   ]
  },
  {
   "cell_type": "code",
   "execution_count": null,
   "metadata": {},
   "outputs": [],
   "source": []
  }
 ],
 "metadata": {
  "kernelspec": {
   "display_name": "Python 3",
   "language": "python",
   "name": "python3"
  },
  "language_info": {
   "codemirror_mode": {
    "name": "ipython",
    "version": 3
   },
   "file_extension": ".py",
   "mimetype": "text/x-python",
   "name": "python",
   "nbconvert_exporter": "python",
   "pygments_lexer": "ipython3",
   "version": "3.8.3"
  }
 },
 "nbformat": 4,
 "nbformat_minor": 4
}
